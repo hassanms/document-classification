{
  "nbformat": 4,
  "nbformat_minor": 0,
  "metadata": {
    "colab": {
      "name": "doc_classification_doc2vec.ipynb",
      "provenance": [],
      "collapsed_sections": []
    },
    "kernelspec": {
      "name": "python3",
      "display_name": "Python 3"
    },
    "accelerator": "GPU"
  },
  "cells": [
    {
      "cell_type": "code",
      "metadata": {
        "id": "Q5Vyxa--1wCT",
        "colab_type": "code",
        "colab": {}
      },
      "source": [
        "from google.colab import drive\n",
        "drive.mount('/content/drive')"
      ],
      "execution_count": 0,
      "outputs": []
    },
    {
      "cell_type": "markdown",
      "metadata": {
        "id": "56Q5GR0y2Dzz",
        "colab_type": "text"
      },
      "source": [
        "**Preprocessing**"
      ]
    },
    {
      "cell_type": "markdown",
      "metadata": {
        "id": "h4pll-dDPfDI",
        "colab_type": "text"
      },
      "source": [
        "We are converting the data i.e. the content of the xml files into a dictionary which will then be converted to a dataframe so that we could play with the data."
      ]
    },
    {
      "cell_type": "code",
      "metadata": {
        "id": "HXV87guo16Nk",
        "colab_type": "code",
        "colab": {}
      },
      "source": [
        "import glob\n",
        "import os\n",
        "from binascii import hexlify\n",
        "\n",
        "\n",
        "path_a = '/content/drive/My Drive/xml_dataset/Class_A'\n",
        "path_b = '/content/drive/My Drive/xml_dataset/Class_B'\n",
        "\n",
        "dict = {'name': [],\n",
        "        'label': []}\n",
        "\n",
        "# Saving class A samples into the dictionary\n",
        "for filename in glob.glob(os.path.join(path_a, '*.xml')):\n",
        "    bin_data = open(filename, 'rb').read()\n",
        "    # new = hexlify(bin_data)\n",
        "    dict['name'].append(bin_data)\n",
        "    dict['label'].append(0) \n",
        "\n",
        "print(\"done importing class a\")\n",
        "\n",
        "\n",
        "# Saving class B samples into the dictionary\n",
        "for filename in glob.glob(os.path.join(path_b, '*.xml')):\n",
        "    bin_data = open(filename, 'rb').read()\n",
        "    # new = hexlify(bin_data)\n",
        "    dict['name'].append(bin_data)\n",
        "    dict['label'].append(1) \n",
        "\n",
        "print(\"done importing class b\")"
      ],
      "execution_count": 0,
      "outputs": []
    },
    {
      "cell_type": "markdown",
      "metadata": {
        "id": "3FVrNXEGPu6K",
        "colab_type": "text"
      },
      "source": [
        "Conversion of the newly created dictionary to a dataframe to be saved in a csv file"
      ]
    },
    {
      "cell_type": "code",
      "metadata": {
        "id": "hGjG_PFV2AOQ",
        "colab_type": "code",
        "colab": {}
      },
      "source": [
        "import pandas as pd \n",
        "\n",
        "df = pd.DataFrame(dict) \n",
        "df.to_csv('/content/drive/My Drive/xml.csv')"
      ],
      "execution_count": 0,
      "outputs": []
    },
    {
      "cell_type": "markdown",
      "metadata": {
        "id": "wUHmShAt2GfC",
        "colab_type": "text"
      },
      "source": [
        "**Starting the code**"
      ]
    },
    {
      "cell_type": "markdown",
      "metadata": {
        "id": "KcV01wmwP2Gt",
        "colab_type": "text"
      },
      "source": [
        "Some necessary imports"
      ]
    },
    {
      "cell_type": "code",
      "metadata": {
        "id": "5NlsCmbCv-bx",
        "colab_type": "code",
        "colab": {}
      },
      "source": [
        "import pandas as pd\n",
        "import numpy as np\n",
        "from tqdm import tqdm\n",
        "from gensim.models import Doc2Vec\n",
        "from sklearn import utils\n",
        "from sklearn.model_selection import train_test_split\n",
        "import gensim\n",
        "from sklearn.linear_model import LogisticRegression\n",
        "from gensim.models.doc2vec import TaggedDocument\n",
        "import re\n",
        "import seaborn as sns\n",
        "import matplotlib.pyplot as plt"
      ],
      "execution_count": 0,
      "outputs": []
    },
    {
      "cell_type": "markdown",
      "metadata": {
        "id": "0pGyEFt4QQkT",
        "colab_type": "text"
      },
      "source": [
        "Reading the csv file into a dataframe and checking if there exists any null values in the data"
      ]
    },
    {
      "cell_type": "code",
      "metadata": {
        "id": "9ikhMfPVwAaV",
        "colab_type": "code",
        "colab": {}
      },
      "source": [
        "df = pd.read_csv('/content/drive/My Drive/xml.csv')\n",
        "df = df[['name','label']]\n",
        "df = df[pd.notnull(df['name'])]"
      ],
      "execution_count": 0,
      "outputs": []
    },
    {
      "cell_type": "code",
      "metadata": {
        "id": "4woa5PhbgqRY",
        "colab_type": "code",
        "colab": {}
      },
      "source": [
        "df"
      ],
      "execution_count": 0,
      "outputs": []
    },
    {
      "cell_type": "markdown",
      "metadata": {
        "id": "lisMdp5sWAE9",
        "colab_type": "text"
      },
      "source": [
        "Some visualization"
      ]
    },
    {
      "cell_type": "code",
      "metadata": {
        "id": "2z-fQ8hkV-gc",
        "colab_type": "code",
        "outputId": "3357a018-ec9d-4d1a-8647-f84d2855f458",
        "colab": {
          "base_uri": "https://localhost:8080/",
          "height": 279
        }
      },
      "source": [
        "cnt_pro = df['label'].value_counts()\n",
        "\n",
        "plt.figure(figsize=(12,4))\n",
        "sns.barplot(cnt_pro.index, cnt_pro.values, alpha=0.8)\n",
        "plt.ylabel('Number', fontsize=12)\n",
        "plt.xlabel('Label', fontsize=12)\n",
        "plt.xticks(rotation=90)\n",
        "plt.show();"
      ],
      "execution_count": 0,
      "outputs": [
        {
          "output_type": "display_data",
          "data": {
            "image/png": "[encoded data removed]",
            "text/plain": [
              "<Figure size 864x288 with 1 Axes>"
            ]
          },
          "metadata": {
            "tags": []
          }
        }
      ]
    },
    {
      "cell_type": "markdown",
      "metadata": {
        "id": "DlkTrfG2Qh08",
        "colab_type": "text"
      },
      "source": [
        "Splitting the data into train and test sets (80/20)"
      ]
    },
    {
      "cell_type": "code",
      "metadata": {
        "id": "h0Tu2nr-wpJN",
        "colab_type": "code",
        "colab": {}
      },
      "source": [
        "train, test = train_test_split(df, test_size=0.2, random_state=42)"
      ],
      "execution_count": 0,
      "outputs": []
    },
    {
      "cell_type": "markdown",
      "metadata": {
        "id": "dmK8L72JQ8NX",
        "colab_type": "text"
      },
      "source": [
        "We are tokenizing the content with [nltk tokenizer](https://www.nltk.org/api/nltk.tokenize.html)"
      ]
    },
    {
      "cell_type": "code",
      "metadata": {
        "id": "4LwPq433wshk",
        "colab_type": "code",
        "colab": {}
      },
      "source": [
        "import nltk\n",
        "from nltk.corpus import stopwords\n",
        "\n",
        "def tokenize_text(text):\n",
        "    tokens = []\n",
        "    for sent in nltk.sent_tokenize(text):\n",
        "        for word in nltk.word_tokenize(sent):\n",
        "            if len(word) < 2:\n",
        "                continue\n",
        "            tokens.append(word.lower())\n",
        "    return tokens"
      ],
      "execution_count": 0,
      "outputs": []
    },
    {
      "cell_type": "code",
      "metadata": {
        "id": "iNZToKqxwvV0",
        "colab_type": "code",
        "outputId": "ccba9061-a32f-4ab7-c693-a72bd5963c02",
        "colab": {
          "base_uri": "https://localhost:8080/",
          "height": 68
        }
      },
      "source": [
        "import nltk\n",
        "\n",
        "nltk.download('punkt')"
      ],
      "execution_count": 0,
      "outputs": [
        {
          "output_type": "stream",
          "text": [
            "[nltk_data] Downloading package punkt to /root/nltk_data...\n",
            "[nltk_data]   Unzipping tokenizers/punkt.zip.\n"
          ],
          "name": "stdout"
        },
        {
          "output_type": "execute_result",
          "data": {
            "text/plain": [
              "True"
            ]
          },
          "metadata": {
            "tags": []
          },
          "execution_count": 8
        }
      ]
    },
    {
      "cell_type": "markdown",
      "metadata": {
        "id": "kY6LLliIRkVi",
        "colab_type": "text"
      },
      "source": [
        "Tagging every 'name' with its corresponding label"
      ]
    },
    {
      "cell_type": "code",
      "metadata": {
        "id": "o-ejp3PXw25c",
        "colab_type": "code",
        "colab": {}
      },
      "source": [
        "train_tagged = train.apply(\n",
        "    lambda r: TaggedDocument(words=tokenize_text(r['name']), tags=[r.label]), axis=1)\n",
        "test_tagged = test.apply(\n",
        "    lambda r: TaggedDocument(words=tokenize_text(r['name']), tags=[r.label]), axis=1)"
      ],
      "execution_count": 0,
      "outputs": []
    },
    {
      "cell_type": "markdown",
      "metadata": {
        "id": "X5bl_SZNSBNd",
        "colab_type": "text"
      },
      "source": [
        "There are two algorithms in doc2vec; Distributed Bag of Words (DBOW) & Distributed Memory (DM). We try both of them separately and then concatenate both of them in the end "
      ]
    },
    {
      "cell_type": "code",
      "metadata": {
        "id": "EBjmlcDpxFLU",
        "colab_type": "code",
        "colab": {}
      },
      "source": [
        "import multiprocessing\n",
        "\n",
        "cores = multiprocessing.cpu_count()"
      ],
      "execution_count": 0,
      "outputs": []
    },
    {
      "cell_type": "markdown",
      "metadata": {
        "id": "4MbU6t8mSjDC",
        "colab_type": "text"
      },
      "source": [
        "***dm=0*** is used for DBOW, here the vectors are created by training a neural network which basically predicts the probability distribution of a portion of string taken from the document\n",
        "\n",
        "***min_count = 2*** drops strings with frequency of occurence lower than 2\n",
        "\n",
        "***workers = cores*** for parallel processing\n",
        "\n",
        "***sample = 0*** used for downsampling\n",
        "\n",
        "***vector_size = 300*** feature vectors"
      ]
    },
    {
      "cell_type": "code",
      "metadata": {
        "id": "oKVKwpAbxBm8",
        "colab_type": "code",
        "outputId": "59e03648-8f38-4daa-ed91-fbf44e59d116",
        "colab": {
          "base_uri": "https://localhost:8080/",
          "height": 34
        }
      },
      "source": [
        "model_dbow = Doc2Vec(dm=0, vector_size=300, negative=5, hs=0, min_count=2, sample = 0, workers=cores)\n",
        "model_dbow.build_vocab([x for x in tqdm(train_tagged.values)])"
      ],
      "execution_count": 0,
      "outputs": [
        {
          "output_type": "stream",
          "text": [
            "100%|██████████| 432/432 [00:00<00:00, 535918.17it/s]\n"
          ],
          "name": "stderr"
        }
      ]
    },
    {
      "cell_type": "markdown",
      "metadata": {
        "id": "jru5wHxqUW95",
        "colab_type": "text"
      },
      "source": [
        "Training for 30 epochs"
      ]
    },
    {
      "cell_type": "code",
      "metadata": {
        "id": "4dApFJ5PxGvU",
        "colab_type": "code",
        "colab": {}
      },
      "source": [
        "%%time\n",
        "for epoch in range(30):\n",
        "    model_dbow.train(utils.shuffle([x for x in tqdm(train_tagged.values)]), total_examples=len(train_tagged.values), epochs=1)\n",
        "    model_dbow.alpha -= 0.002\n",
        "    model_dbow.min_alpha = model_dbow.alpha"
      ],
      "execution_count": 0,
      "outputs": []
    },
    {
      "cell_type": "markdown",
      "metadata": {
        "id": "arVqinQnUeXG",
        "colab_type": "text"
      },
      "source": [
        "Building the final vector for training"
      ]
    },
    {
      "cell_type": "code",
      "metadata": {
        "id": "vRXMQIWSxb2n",
        "colab_type": "code",
        "colab": {}
      },
      "source": [
        "def vec_for_learning(model, tagged_docs):\n",
        "    sents = tagged_docs.values\n",
        "    targets, regressors = zip(*[(doc.tags[0], model.infer_vector(doc.words, steps=20)) for doc in sents])\n",
        "    return targets, regressors"
      ],
      "execution_count": 0,
      "outputs": []
    },
    {
      "cell_type": "code",
      "metadata": {
        "id": "UsrD9HQmxfaL",
        "colab_type": "code",
        "colab": {}
      },
      "source": [
        "y_train, X_train = vec_for_learning(model_dbow, train_tagged)\n",
        "y_test, X_test = vec_for_learning(model_dbow, test_tagged)"
      ],
      "execution_count": 0,
      "outputs": []
    },
    {
      "cell_type": "markdown",
      "metadata": {
        "id": "Tbzz0BjAUo3T",
        "colab_type": "text"
      },
      "source": [
        "Training the classifier"
      ]
    },
    {
      "cell_type": "code",
      "metadata": {
        "id": "RH_IAOpRxgsr",
        "colab_type": "code",
        "colab": {}
      },
      "source": [
        "logreg = LogisticRegression(n_jobs=1, C=1e5)\n",
        "logreg.fit(X_train, y_train)\n",
        "y_pred = logreg.predict(X_test)"
      ],
      "execution_count": 0,
      "outputs": []
    },
    {
      "cell_type": "code",
      "metadata": {
        "id": "Zn6XyZLfxpZb",
        "colab_type": "code",
        "colab": {}
      },
      "source": [
        "from sklearn.metrics import accuracy_score, f1_score\n",
        "\n",
        "print('Testing accuracy %s' % accuracy_score(y_test, y_pred))\n",
        "print('Testing F1 score: {}'.format(f1_score(y_test, y_pred, average='weighted')))"
      ],
      "execution_count": 0,
      "outputs": []
    },
    {
      "cell_type": "markdown",
      "metadata": {
        "id": "d7LMD2x3Uu-h",
        "colab_type": "text"
      },
      "source": [
        "Now trying the second approach: DM. Rather than working on the occurences of strings, it remembers the context in which they are used."
      ]
    },
    {
      "cell_type": "code",
      "metadata": {
        "id": "5gLCqlM_zybf",
        "colab_type": "code",
        "colab": {}
      },
      "source": [
        "model_dmm = Doc2Vec(dm=1, dm_mean=1, vector_size=300, window=10, negative=5, min_count=1, workers=5, alpha=0.065, min_alpha=0.065)\n",
        "model_dmm.build_vocab([x for x in tqdm(train_tagged.values)])"
      ],
      "execution_count": 0,
      "outputs": []
    },
    {
      "cell_type": "code",
      "metadata": {
        "id": "Uh5l2AXUz0w4",
        "colab_type": "code",
        "colab": {}
      },
      "source": [
        "%%time\n",
        "for epoch in range(30):\n",
        "    model_dmm.train(utils.shuffle([x for x in tqdm(train_tagged.values)]), total_examples=len(train_tagged.values), epochs=1)\n",
        "    model_dmm.alpha -= 0.002\n",
        "    model_dmm.min_alpha = model_dmm.alpha"
      ],
      "execution_count": 0,
      "outputs": []
    },
    {
      "cell_type": "code",
      "metadata": {
        "id": "flU3csYaz3Ef",
        "colab_type": "code",
        "colab": {}
      },
      "source": [
        "y_train, X_train = vec_for_learning(model_dmm, train_tagged)\n",
        "y_test, X_test = vec_for_learning(model_dmm, test_tagged)\n",
        "logreg.fit(X_train, y_train)\n",
        "y_pred = logreg.predict(X_test)"
      ],
      "execution_count": 0,
      "outputs": []
    },
    {
      "cell_type": "code",
      "metadata": {
        "id": "dRQUdOoTz5b2",
        "colab_type": "code",
        "colab": {}
      },
      "source": [
        "print('Testing accuracy %s' % accuracy_score(y_test, y_pred))\n",
        "print('Testing F1 score: {}'.format(f1_score(y_test, y_pred, average='weighted')))"
      ],
      "execution_count": 0,
      "outputs": []
    },
    {
      "cell_type": "markdown",
      "metadata": {
        "id": "ZstKb-F7VLRt",
        "colab_type": "text"
      },
      "source": [
        "Freeing up some RAM (might be skipped)"
      ]
    },
    {
      "cell_type": "code",
      "metadata": {
        "id": "AEUndVwZz5zu",
        "colab_type": "code",
        "colab": {}
      },
      "source": [
        "model_dbow.delete_temporary_training_data(keep_doctags_vectors=True, keep_inference=True)\n",
        "model_dmm.delete_temporary_training_data(keep_doctags_vectors=True, keep_inference=True)"
      ],
      "execution_count": 0,
      "outputs": []
    },
    {
      "cell_type": "code",
      "metadata": {
        "id": "TDHWyP0-z7MP",
        "colab_type": "code",
        "outputId": "49e334cc-7098-4276-d07a-ebbb5a8d0603",
        "colab": {
          "base_uri": "https://localhost:8080/",
          "height": 102
        }
      },
      "source": [
        "!pip install testfixtures"
      ],
      "execution_count": 0,
      "outputs": [
        {
          "output_type": "stream",
          "text": [
            "Collecting testfixtures\n",
            "\u001b[?25l  Downloading https://files.pythonhosted.org/packages/6a/fe/0cf62bbb32c3589e955a447d582c9d07b051baf5edc3fae9973709766353/testfixtures-6.10.2-py2.py3-none-any.whl (86kB)\n",
            "\r\u001b[K     |███▊                            | 10kB 17.0MB/s eta 0:00:01\r\u001b[K     |███████▌                        | 20kB 1.7MB/s eta 0:00:01\r\u001b[K     |███████████▎                    | 30kB 2.6MB/s eta 0:00:01\r\u001b[K     |███████████████                 | 40kB 3.3MB/s eta 0:00:01\r\u001b[K     |██████████████████▉             | 51kB 2.1MB/s eta 0:00:01\r\u001b[K     |██████████████████████▋         | 61kB 2.5MB/s eta 0:00:01\r\u001b[K     |██████████████████████████▍     | 71kB 2.9MB/s eta 0:00:01\r\u001b[K     |██████████████████████████████▏ | 81kB 3.3MB/s eta 0:00:01\r\u001b[K     |████████████████████████████████| 92kB 2.8MB/s \n",
            "\u001b[?25hInstalling collected packages: testfixtures\n",
            "Successfully installed testfixtures-6.10.2\n"
          ],
          "name": "stdout"
        }
      ]
    },
    {
      "cell_type": "markdown",
      "metadata": {
        "id": "6L85qaOuVTe3",
        "colab_type": "text"
      },
      "source": [
        "It is a know fact that combination of both DBOW and DM gives boost to the performance so we are concatenating both of them"
      ]
    },
    {
      "cell_type": "code",
      "metadata": {
        "id": "w04Ak20Dz90Y",
        "colab_type": "code",
        "colab": {}
      },
      "source": [
        "from gensim.test.test_doc2vec import ConcatenatedDoc2Vec\n",
        "\n",
        "new_model = ConcatenatedDoc2Vec([model_dbow, model_dmm])"
      ],
      "execution_count": 0,
      "outputs": []
    },
    {
      "cell_type": "code",
      "metadata": {
        "id": "avwDFMkUz_Rw",
        "colab_type": "code",
        "colab": {}
      },
      "source": [
        "def get_vectors(model, tagged_docs):\n",
        "    sents = tagged_docs.values\n",
        "    targets, regressors = zip(*[(doc.tags[0], model.infer_vector(doc.words, steps=20)) for doc in sents])\n",
        "    return targets, regressors"
      ],
      "execution_count": 0,
      "outputs": []
    },
    {
      "cell_type": "code",
      "metadata": {
        "id": "a5mOQ0Pw0AqH",
        "colab_type": "code",
        "outputId": "9f8b10da-1cf5-4a09-cf6c-03941855e4fb",
        "colab": {
          "base_uri": "https://localhost:8080/",
          "height": 51
        }
      },
      "source": [
        "y_train, X_train = get_vectors(new_model, train_tagged)\n",
        "y_test, X_test = get_vectors(new_model, test_tagged)\n",
        "logreg.fit(X_train, y_train)\n",
        "y_pred = logreg.predict(X_test)"
      ],
      "execution_count": 0,
      "outputs": [
        {
          "output_type": "stream",
          "text": [
            "/usr/local/lib/python3.6/dist-packages/sklearn/linear_model/logistic.py:432: FutureWarning: Default solver will be changed to 'lbfgs' in 0.22. Specify a solver to silence this warning.\n",
            "  FutureWarning)\n"
          ],
          "name": "stderr"
        }
      ]
    },
    {
      "cell_type": "code",
      "metadata": {
        "id": "j_Ql_uGF0CC2",
        "colab_type": "code",
        "outputId": "52076ad2-57fe-42ca-e6c3-2ca6239d7c2b",
        "colab": {
          "base_uri": "https://localhost:8080/",
          "height": 51
        }
      },
      "source": [
        "print('Testing accuracy %s' % accuracy_score(y_test, y_pred))\n",
        "print('Testing F1 score: {}'.format(f1_score(y_test, y_pred, average='weighted')))"
      ],
      "execution_count": 0,
      "outputs": [
        {
          "output_type": "stream",
          "text": [
            "Testing accuracy 0.9537037037037037\n",
            "Testing F1 score: 0.95378740772628\n"
          ],
          "name": "stdout"
        }
      ]
    },
    {
      "cell_type": "markdown",
      "metadata": {
        "id": "6i-cnhrU1B0M",
        "colab_type": "text"
      },
      "source": [
        "**Saving the model**"
      ]
    },
    {
      "cell_type": "code",
      "metadata": {
        "id": "fafZ8KShxxj7",
        "colab_type": "code",
        "colab": {}
      },
      "source": [
        "import pickle\n",
        "\n",
        "filename = 'finalized_model.sav'\n",
        "pickle.dump(logreg, open(filename, 'wb'))"
      ],
      "execution_count": 0,
      "outputs": []
    },
    {
      "cell_type": "markdown",
      "metadata": {
        "id": "3W6yWCSl08M_",
        "colab_type": "text"
      },
      "source": [
        "**Testing the newly saved model**"
      ]
    },
    {
      "cell_type": "code",
      "metadata": {
        "id": "QviHMJDlzlG0",
        "colab_type": "code",
        "outputId": "c7682e35-897f-47c9-eb88-b9b2ef47fb23",
        "colab": {
          "base_uri": "https://localhost:8080/",
          "height": 34
        }
      },
      "source": [
        "loaded_model = pickle.load(open(filename, 'rb'))\n",
        "result = loaded_model.score(X_test, y_test)\n",
        "\n",
        "print(result)"
      ],
      "execution_count": 0,
      "outputs": [
        {
          "output_type": "stream",
          "text": [
            "0.9537037037037037\n"
          ],
          "name": "stdout"
        }
      ]
    },
    {
      "cell_type": "markdown",
      "metadata": {
        "id": "cpzWGqWImA-Y",
        "colab_type": "text"
      },
      "source": [
        "Testing a single sample"
      ]
    },
    {
      "cell_type": "code",
      "metadata": {
        "id": "FZ-4--iUZo2A",
        "colab_type": "code",
        "colab": {}
      },
      "source": [
        "content = open('/content/drive/My Drive/other/204_b.xml', 'rb').read()"
      ],
      "execution_count": 0,
      "outputs": []
    },
    {
      "cell_type": "code",
      "metadata": {
        "id": "z1bwpxAndUUW",
        "colab_type": "code",
        "colab": {}
      },
      "source": [
        "dict = {'name': [],\n",
        "        'label': []}\n",
        "dict['name'].append(str(content))\n",
        "dict['label'].append(None)\n",
        "content_df = pd.DataFrame(dict)"
      ],
      "execution_count": 0,
      "outputs": []
    },
    {
      "cell_type": "code",
      "metadata": {
        "id": "CeK3JJ5CkqKC",
        "colab_type": "code",
        "colab": {}
      },
      "source": [
        "content_df = pd.DataFrame(dict)"
      ],
      "execution_count": 0,
      "outputs": []
    },
    {
      "cell_type": "code",
      "metadata": {
        "id": "tBIpXuc6eskv",
        "colab_type": "code",
        "colab": {}
      },
      "source": [
        "content_df"
      ],
      "execution_count": 0,
      "outputs": []
    },
    {
      "cell_type": "code",
      "metadata": {
        "id": "Mulc8_iQdVHD",
        "colab_type": "code",
        "colab": {}
      },
      "source": [
        "content_tagged = content_df.apply(\n",
        "    lambda r: TaggedDocument(words=tokenize_text(r['name']), tags=[r.label]), axis=1)"
      ],
      "execution_count": 0,
      "outputs": []
    },
    {
      "cell_type": "code",
      "metadata": {
        "id": "6wmSQ0n3dkLi",
        "colab_type": "code",
        "colab": {}
      },
      "source": [
        "_, sample = vec_for_learning(new_model, content_tagged)"
      ],
      "execution_count": 0,
      "outputs": []
    },
    {
      "cell_type": "code",
      "metadata": {
        "id": "lb-wjn3ChoRz",
        "colab_type": "code",
        "colab": {}
      },
      "source": [
        "prediction = loaded_model.predict(sample)"
      ],
      "execution_count": 0,
      "outputs": []
    },
    {
      "cell_type": "code",
      "metadata": {
        "id": "Su1GDsjJld4O",
        "colab_type": "code",
        "colab": {}
      },
      "source": [
        "prediction"
      ],
      "execution_count": 0,
      "outputs": []
    }
  ]
}